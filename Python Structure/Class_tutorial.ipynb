{
  "nbformat": 4,
  "nbformat_minor": 0,
  "metadata": {
    "colab": {
      "name": "Class tutorial",
      "provenance": [],
      "authorship_tag": "ABX9TyNmnwWYr2SF3RzRKTfWupJm",
      "include_colab_link": true
    },
    "kernelspec": {
      "name": "python3",
      "display_name": "Python 3"
    }
  },
  "cells": [
    {
      "cell_type": "markdown",
      "metadata": {
        "id": "view-in-github",
        "colab_type": "text"
      },
      "source": [
        "<a href=\"https://colab.research.google.com/github/wallik2/My_own_lecture/blob/main/Python%20Structure/Class_tutorial.ipynb\" target=\"_parent\"><img src=\"https://colab.research.google.com/assets/colab-badge.svg\" alt=\"Open In Colab\"/></a>"
      ]
    },
    {
      "cell_type": "markdown",
      "metadata": {
        "id": "iNmlNms-xadu"
      },
      "source": [
        "# Tutorial 1"
      ]
    },
    {
      "cell_type": "markdown",
      "metadata": {
        "id": "tjFqIOhGx0PF"
      },
      "source": [
        "ref: https://www.youtube.com/watch?v=ZDa-Z5JzLYM&list=PL-osiE80TeTsqhIuOqKhwlXsIBIdSeYtc&index=1"
      ]
    },
    {
      "cell_type": "code",
      "metadata": {
        "id": "yT3adjwfsMOj"
      },
      "source": [
        "class Employee():\r\n",
        "  def __init__(self, first, last, pay):\r\n",
        "    self.first = first                                         #self is the object\r\n",
        "    self.last = last                                           #self.last; last is the attribute\r\n",
        "    self.pay = pay\r\n",
        "    self.email = first + '.' + last + '@company.com'\r\n",
        "\r\n",
        "  def fullname(self):                                          #Method\r\n",
        "    return '{} {}'.format(self.first, self.last)"
      ],
      "execution_count": null,
      "outputs": []
    },
    {
      "cell_type": "code",
      "metadata": {
        "id": "Eaj_9KCyvzGt"
      },
      "source": [
        "#Create instance\r\n",
        "\r\n",
        "emp_1 = Employee('Corey', 'Schafer', 50000)\r\n",
        "emp_2 = Employee('Saran', 'Panna', 60000)"
      ],
      "execution_count": null,
      "outputs": []
    },
    {
      "cell_type": "code",
      "metadata": {
        "colab": {
          "base_uri": "https://localhost:8080/"
        },
        "id": "zxAq3zNHwBaV",
        "outputId": "fc87350a-436d-4538-a022-4e5d96638f21"
      },
      "source": [
        "print(emp_1.email)\r\n",
        "print(emp_2.email)"
      ],
      "execution_count": null,
      "outputs": [
        {
          "output_type": "stream",
          "text": [
            "Corey.Schafer@company.com\n",
            "Saran.Panna@company.com\n"
          ],
          "name": "stdout"
        }
      ]
    },
    {
      "cell_type": "code",
      "metadata": {
        "colab": {
          "base_uri": "https://localhost:8080/"
        },
        "id": "5hj1U8lwu8Xm",
        "outputId": "b64b9761-b9f2-4fb4-9d2a-d0ea45bcd43e"
      },
      "source": [
        "print(emp_1.fullname())\r\n",
        "print(Employee.fullname(emp_1))"
      ],
      "execution_count": null,
      "outputs": [
        {
          "output_type": "stream",
          "text": [
            "Corey Schafer\n",
            "Corey Schafer\n"
          ],
          "name": "stdout"
        }
      ]
    },
    {
      "cell_type": "markdown",
      "metadata": {
        "id": "9Rr51BL3xede"
      },
      "source": [
        "\r\n",
        "\r\n",
        "---\r\n",
        "\r\n",
        "\r\n",
        "\r\n",
        "# Tutorial 2"
      ]
    },
    {
      "cell_type": "markdown",
      "metadata": {
        "id": "MCn3xLScx3IN"
      },
      "source": [
        "ref: https://www.youtube.com/watch?v=BJ-VvGyQxho&list=PL-osiE80TeTsqhIuOqKhwlXsIBIdSeYtc&index=2"
      ]
    },
    {
      "cell_type": "code",
      "metadata": {
        "id": "U2AlKqOKxoC-"
      },
      "source": [
        "class Employee():\r\n",
        "\r\n",
        "  num_of_emps =  0\r\n",
        "  raise_amount = 1.04                  # I.E. it's Employee.raise_amount = 1.04\r\n",
        "\r\n",
        "  def __init__(self, first, last, pay):\r\n",
        "    self.first = first\r\n",
        "    self.last = last\r\n",
        "    self.pay = pay\r\n",
        "    self.email = first + '.' + last + '@company.com'\r\n",
        "\r\n",
        "    Employee.num_of_emps +=1\r\n",
        "\r\n",
        "  def fullname(self):                                          \r\n",
        "    return '{} {}'.format(self.first, self.last)\r\n",
        "\r\n",
        "\r\n",
        "  def apply_raise(self):\r\n",
        "    self.pay = int(self.pay * self.raise_amount)"
      ],
      "execution_count": null,
      "outputs": []
    },
    {
      "cell_type": "code",
      "metadata": {
        "id": "xfpNokgXyLEE"
      },
      "source": [
        "emp_1 = Employee('Corey', 'Schafer', 50000)\r\n",
        "emp_2 = Employee('Saran', 'Panna', 60000)"
      ],
      "execution_count": null,
      "outputs": []
    },
    {
      "cell_type": "code",
      "metadata": {
        "colab": {
          "base_uri": "https://localhost:8080/"
        },
        "id": "HqglgFLC9FLY",
        "outputId": "c6e16d26-1fe0-4c5d-e65d-372daab066c1"
      },
      "source": [
        "#Let's check the current number of employees\r\n",
        "\r\n",
        "Employee.num_of_emps"
      ],
      "execution_count": null,
      "outputs": [
        {
          "output_type": "execute_result",
          "data": {
            "text/plain": [
              "2"
            ]
          },
          "metadata": {
            "tags": []
          },
          "execution_count": 93
        }
      ]
    },
    {
      "cell_type": "code",
      "metadata": {
        "colab": {
          "base_uri": "https://localhost:8080/"
        },
        "id": "WgRwuNFz4MKB",
        "outputId": "3ce41225-efab-4203-b6bd-d7abcae9d295"
      },
      "source": [
        "emp_1.raise_amount"
      ],
      "execution_count": null,
      "outputs": [
        {
          "output_type": "execute_result",
          "data": {
            "text/plain": [
              "1.04"
            ]
          },
          "metadata": {
            "tags": []
          },
          "execution_count": 94
        }
      ]
    },
    {
      "cell_type": "code",
      "metadata": {
        "id": "ZeAaYGya3bvw"
      },
      "source": [
        "emp_1.apply_raise()\r\n"
      ],
      "execution_count": null,
      "outputs": []
    },
    {
      "cell_type": "code",
      "metadata": {
        "colab": {
          "base_uri": "https://localhost:8080/"
        },
        "id": "UPg4j53C3gtv",
        "outputId": "883fcd18-1cd1-4e94-c662-92d690fc0a8a"
      },
      "source": [
        "print(emp_1.pay)\r\n",
        "print(emp_2.pay)"
      ],
      "execution_count": null,
      "outputs": [
        {
          "output_type": "stream",
          "text": [
            "52000\n",
            "60000\n"
          ],
          "name": "stdout"
        }
      ]
    },
    {
      "cell_type": "code",
      "metadata": {
        "colab": {
          "base_uri": "https://localhost:8080/"
        },
        "id": "XVFqmpx94Uj3",
        "outputId": "f04f1f0f-312f-4e07-ccc6-f70a22533d6c"
      },
      "source": [
        "#See all attributes of instance emp_1\r\n",
        "\r\n",
        "emp_1.__dict__"
      ],
      "execution_count": null,
      "outputs": [
        {
          "output_type": "execute_result",
          "data": {
            "text/plain": [
              "{'email': 'Corey.Schafer@company.com',\n",
              " 'first': 'Corey',\n",
              " 'last': 'Schafer',\n",
              " 'pay': 52000}"
            ]
          },
          "metadata": {
            "tags": []
          },
          "execution_count": 97
        }
      ]
    },
    {
      "cell_type": "code",
      "metadata": {
        "id": "0m5n07Lg4z5A"
      },
      "source": [
        "#Now Let's try adjust raise_amount to 1.05\r\n",
        "\r\n",
        "Employee.raise_amount = 1.05"
      ],
      "execution_count": null,
      "outputs": []
    },
    {
      "cell_type": "code",
      "metadata": {
        "id": "ilB9ydGU6MdQ"
      },
      "source": [
        "emp_2.apply_raise()"
      ],
      "execution_count": null,
      "outputs": []
    },
    {
      "cell_type": "code",
      "metadata": {
        "colab": {
          "base_uri": "https://localhost:8080/"
        },
        "id": "qt2UZ79F6TNO",
        "outputId": "6bd58555-9f65-417d-b5da-5b754fec32ec"
      },
      "source": [
        "print(emp_2.pay)"
      ],
      "execution_count": null,
      "outputs": [
        {
          "output_type": "stream",
          "text": [
            "63000\n"
          ],
          "name": "stdout"
        }
      ]
    },
    {
      "cell_type": "code",
      "metadata": {
        "id": "6L1DfQKs6qgA"
      },
      "source": [
        "# Suppose there's one more emp_3, and we really need to adjust INDIVIDUALLY raise_amount to 1.10\r\n",
        "\r\n",
        "emp_3 = Employee('Kasemwat', 'Ongkan', 50000)"
      ],
      "execution_count": null,
      "outputs": []
    },
    {
      "cell_type": "code",
      "metadata": {
        "id": "Dy6s618X7ItQ"
      },
      "source": [
        "emp_3.raise_amount = 1.10"
      ],
      "execution_count": null,
      "outputs": []
    },
    {
      "cell_type": "code",
      "metadata": {
        "colab": {
          "base_uri": "https://localhost:8080/"
        },
        "id": "MDdWODqW7Vkf",
        "outputId": "838cc8ee-da65-4403-b64d-d2a89e9984bf"
      },
      "source": [
        "emp_3.apply_raise()\r\n",
        "\r\n",
        "print(emp_3.pay)\r\n",
        "\r\n",
        "# So, only emp_3 got a special raise_amount to 1.10, but the others are still 1.05"
      ],
      "execution_count": null,
      "outputs": [
        {
          "output_type": "stream",
          "text": [
            "55000\n"
          ],
          "name": "stdout"
        }
      ]
    },
    {
      "cell_type": "code",
      "metadata": {
        "colab": {
          "base_uri": "https://localhost:8080/"
        },
        "id": "j8IdPxZ07cJW",
        "outputId": "aa8794f9-9266-498a-dd86-10bd8773b737"
      },
      "source": [
        "# Now, let's check the current number of employees \r\n",
        "\r\n",
        "Employee.num_of_emps"
      ],
      "execution_count": null,
      "outputs": [
        {
          "output_type": "execute_result",
          "data": {
            "text/plain": [
              "3"
            ]
          },
          "metadata": {
            "tags": []
          },
          "execution_count": 104
        }
      ]
    },
    {
      "cell_type": "code",
      "metadata": {
        "id": "0wuNs0XI7x-X"
      },
      "source": [
        ""
      ],
      "execution_count": null,
      "outputs": []
    },
    {
      "cell_type": "markdown",
      "metadata": {
        "id": "jT2E8YNF_sop"
      },
      "source": [
        "\r\n",
        "\r\n",
        "---\r\n",
        "\r\n",
        "\r\n",
        "\r\n",
        "# Tutorial 3"
      ]
    },
    {
      "cell_type": "markdown",
      "metadata": {
        "id": "7JqaJGu4R7Mr"
      },
      "source": [
        "There are three types of method <br>\r\n",
        "1. ***Regular instance method ***     (use self as a first argument which is an instance) \r\n",
        "2. Class method (use cls as a first argument which is a class)\r\n",
        "3. Static method (The first argument doesn't have to be self or class, but nothing)"
      ]
    },
    {
      "cell_type": "markdown",
      "metadata": {
        "id": "eurG4Ru3_vDg"
      },
      "source": [
        "ref: https://www.youtube.com/watch?v=rq8cL2XMM5M&list=PL-osiE80TeTsqhIuOqKhwlXsIBIdSeYtc&index=3\r\n",
        "\r\n",
        "We are going to use @classmethod,\r\n",
        "instead of using self which call the instance, but now we will use **cls** to call the class (in this case is Employee)"
      ]
    },
    {
      "cell_type": "code",
      "metadata": {
        "id": "ORbwh7L0GS5C"
      },
      "source": [
        "class Employee():\r\n",
        "\r\n",
        "  num_of_emps =  0\r\n",
        "  raise_amount = 1.04                  # I.E. it's Employee.raise_amount = 1.04\r\n",
        "\r\n",
        "  def __init__(self, first, last, pay):\r\n",
        "    self.first = first\r\n",
        "    self.last = last\r\n",
        "    self.pay = pay\r\n",
        "    self.email = first + '.' + last + '@company.com'\r\n",
        "\r\n",
        "    Employee.num_of_emps +=1\r\n",
        "\r\n",
        "  def fullname(self):                                          \r\n",
        "    return '{} {}'.format(self.first, self.last)\r\n",
        "\r\n",
        "\r\n",
        "  def apply_raise(self):                               #self as an instance\r\n",
        "    self.pay = int(self.pay * self.raise_amount)\r\n",
        "\r\n",
        "  @classmethod\r\n",
        "  def from_string(cls,emp_str):                        #cls as a class   \r\n",
        "    first, last, pay = emp_str.split('-')\r\n",
        "    \r\n",
        "    return cls(first, last, pay)                       #Just like a recursion of a class  #Compared as Employee(first,last,pay)\r\n",
        "\r\n",
        "  @classmethod\r\n",
        "  def set_raise_amt(cls, amount):\r\n",
        "    cls.raise_amount = amount\r\n",
        "\r\n",
        "  \r\n",
        "  @staticmethod\r\n",
        "  def is_workday(day):                                  #Doesn't use an instance or class based\r\n",
        "    if day.weekday() == 5 or day.weekday() ==6:         #Saturday = 5, Sunday=6 whichi is not a work day\r\n",
        "      return False\r\n",
        "    return True\r\n",
        "\r\n"
      ],
      "execution_count": null,
      "outputs": []
    },
    {
      "cell_type": "code",
      "metadata": {
        "id": "9lzpZZjHQaot"
      },
      "source": [
        "#Additional constructor\r\n",
        "\r\n",
        "class Time_Updated():\r\n",
        "  @classmethod\r\n",
        "  def from_time_stamp(cls, t):\r\n",
        "    y, m, d, *rest = _time.localtime(t)\r\n",
        "    return cls(y,m,d)\r\n",
        "\r\n",
        "  @classmethod\r\n",
        "  def today(cls):   \r\n",
        "    t = _time.time()\r\n",
        "    return cls.from_time_stamp(t)\r\n"
      ],
      "execution_count": null,
      "outputs": []
    },
    {
      "cell_type": "code",
      "metadata": {
        "id": "HldnlEvpHz7S"
      },
      "source": [
        "#Let's welcoming new emp_4; instead of taking inputs like 3 arguments: first, last, pay respectively, we will take an input in form of string which is 'first-last-pay' \r\n",
        "#emp_4 = Employee('Nuchpol', 'Arpas', 70000)\r\n",
        "\r\n",
        "emp_4_str = 'Nuchpol-Arpas-70000'\r\n",
        "\r\n",
        "emp_4 = Employee.from_string(emp_4_str)"
      ],
      "execution_count": null,
      "outputs": []
    },
    {
      "cell_type": "code",
      "metadata": {
        "colab": {
          "base_uri": "https://localhost:8080/"
        },
        "id": "LJ73KyJ4I0cS",
        "outputId": "ddc7d6ad-68d7-4197-d0be-526fedd4e1e7"
      },
      "source": [
        "# There you go, using @classmethod could help us more conveniently to take a customer info\r\n",
        "print(emp_4.__dict__)"
      ],
      "execution_count": null,
      "outputs": [
        {
          "output_type": "stream",
          "text": [
            "{'first': 'Nuchpol', 'last': 'Arpas', 'pay': '70000', 'email': 'Nuchpol.Arpas@company.com'}\n"
          ],
          "name": "stdout"
        }
      ]
    },
    {
      "cell_type": "code",
      "metadata": {
        "colab": {
          "base_uri": "https://localhost:8080/"
        },
        "id": "leqA7drqWAus",
        "outputId": "269ebb3f-6d02-416a-b1fb-3eac825246a9"
      },
      "source": [
        "#Let call the static method by using checking that Is this day a work day or not\r\n",
        "\r\n",
        "#Suppose, 2016/7/11 is Monday\r\n",
        "\r\n",
        "import datetime\r\n",
        "\r\n",
        "my_date = datetime.date(2016, 7, 11)\r\n",
        "\r\n",
        "print(Employee.is_workday(my_date))"
      ],
      "execution_count": null,
      "outputs": [
        {
          "output_type": "stream",
          "text": [
            "True\n"
          ],
          "name": "stdout"
        }
      ]
    },
    {
      "cell_type": "code",
      "metadata": {
        "colab": {
          "base_uri": "https://localhost:8080/"
        },
        "id": "lBgfOFiYXFBD",
        "outputId": "ee038e40-9907-421f-80bf-06fe8ed1a16b"
      },
      "source": [
        "#Suppose we want to check 2016/7/10\r\n",
        "\r\n",
        "my_date = datetime.date(2016, 7, 10)\r\n",
        "\r\n",
        "print(Employee.is_workday(my_date))"
      ],
      "execution_count": null,
      "outputs": [
        {
          "output_type": "stream",
          "text": [
            "False\n"
          ],
          "name": "stdout"
        }
      ]
    },
    {
      "cell_type": "markdown",
      "metadata": {
        "id": "REbE1nQsXyqb"
      },
      "source": [
        "\r\n",
        "\r\n",
        "---\r\n",
        "\r\n",
        "#Tutorial 4\r\n",
        "\r\n",
        "\r\n",
        "\r\n",
        "\r\n"
      ]
    },
    {
      "cell_type": "markdown",
      "metadata": {
        "id": "tD6MlQCKYYAQ"
      },
      "source": [
        "ref: https://www.youtube.com/watch?v=RSl87lqOXDE&list=PL-osiE80TeTsqhIuOqKhwlXsIBIdSeYtc&index=4"
      ]
    },
    {
      "cell_type": "markdown",
      "metadata": {
        "id": "VNm6tu0zaK9n"
      },
      "source": [
        "**Inheritance class** is basically a sub-class which borrow the info from the parent, without changing the parent class"
      ]
    },
    {
      "cell_type": "markdown",
      "metadata": {
        "id": "PVdZ422yh-bL"
      },
      "source": [
        "\r\n",
        "**<u>How the sub class works</u>**:\r\n",
        "\r\n",
        "Using Method Resolution order: The Inheritance class will try to find the method or attribute of its class first, If it doesn't get it, then It will find for the method or attribute of parent."
      ]
    },
    {
      "cell_type": "code",
      "metadata": {
        "id": "fPj-a0qAYSpf"
      },
      "source": [
        "#Let this be the *Parent Class*\r\n",
        "\r\n",
        "class Employee():\r\n",
        "\r\n",
        "  num_of_emps =  0\r\n",
        "  raise_amount = 1.04                 \r\n",
        "  def __init__(self, first, last, pay):\r\n",
        "    self.first = first\r\n",
        "    self.last = last\r\n",
        "    self.pay = pay\r\n",
        "    self.email = first + '.' + last + '@company.com'\r\n",
        "\r\n",
        "    Employee.num_of_emps +=1\r\n",
        "\r\n",
        "  def fullname(self):                                          \r\n",
        "    return '{} {}'.format(self.first, self.last)\r\n",
        "\r\n",
        "\r\n",
        "  def apply_raise(self):                              \r\n",
        "    self.pay = int(self.pay * self.raise_amount)\r\n",
        "\r\n",
        "  @classmethod\r\n",
        "  def from_string(cls,emp_str):                       \r\n",
        "    first, last, pay = emp_str.split('-')\r\n",
        "    \r\n",
        "    return cls(first, last, pay)                       \r\n",
        "\r\n",
        "  @classmethod\r\n",
        "  def set_raise_amt(cls, amount):\r\n",
        "    cls.raise_amount = amount\r\n",
        "\r\n",
        "  \r\n",
        "  @staticmethod\r\n",
        "  def is_workday(day):                                 \r\n",
        "    if day.weekday() == 5 or day.weekday() ==6:         \r\n",
        "      return False\r\n",
        "    return True\r\n"
      ],
      "execution_count": null,
      "outputs": []
    },
    {
      "cell_type": "code",
      "metadata": {
        "id": "QOxAMC48gFyw"
      },
      "source": [
        "# Our first Inheritance or sub-class (Developer)\r\n",
        "\r\n",
        "class Developer(Employee):                      #To declare the sub class -> must insert the argument as the parent class (which is Employee in this case)\r\n",
        "\r\n",
        "  raise_amount = 1.10                           # Developer gets more extra raise_amount than the normal employee\r\n",
        "\r\n",
        "\r\n",
        "  def __init__(self,first,last,pay,prog_lang):  # only prog_land was an extra argument for developer apart from Employee\r\n",
        "\r\n",
        "    super().__init__(first,last,pay)            # super() borrow the instance from its parent class, in this case __init__ basically borrows the instance from Employee\r\n",
        "                                                # super() is a term of the parent class, which is same as Employee.__init__(self,first,last,pay) but we doesn't prefer write code in form of this cuz it's so long and unnecessary\r\n",
        "    self.prog_lang = prog_lang\r\n"
      ],
      "execution_count": null,
      "outputs": []
    },
    {
      "cell_type": "code",
      "metadata": {
        "id": "9yua8b1ugevp"
      },
      "source": [
        "Dev1 = Developer('Prin','Satit',80000,'Python')\r\n",
        "Dev2 = Developer('Detbodi','Wetsi',75000,'C')"
      ],
      "execution_count": null,
      "outputs": []
    },
    {
      "cell_type": "code",
      "metadata": {
        "colab": {
          "base_uri": "https://localhost:8080/"
        },
        "id": "50fPjNFsnCex",
        "outputId": "da90c707-4d75-4577-9fba-36f7786c8d7d"
      },
      "source": [
        "print(Dev1.first)"
      ],
      "execution_count": null,
      "outputs": [
        {
          "output_type": "stream",
          "text": [
            "Prin\n"
          ],
          "name": "stdout"
        }
      ]
    },
    {
      "cell_type": "code",
      "metadata": {
        "colab": {
          "base_uri": "https://localhost:8080/"
        },
        "id": "IJqddxZGkwHa",
        "outputId": "f72acb5e-3fc3-414c-b7bd-d111d46d8bf5"
      },
      "source": [
        "print(Dev1.email)                 #Calling the attribute which doesn't exist in its class, but in its parent class\r\n",
        "\r\n",
        "print(Dev1.fullname())            # ---,,-----method-----------------------------,,-----------------------------\r\n",
        "\r\n",
        "                                  # You might be wondering how the **** can it print .email, even it doesn't exist in its own subclass\r\n",
        "                                  # As we mentioned before, the sub-class uses Method Resolution order\r\n",
        "                                  #It means if it can't see the given attribute in its sub class, then it will look for the attribute in the parent class instead"
      ],
      "execution_count": null,
      "outputs": [
        {
          "output_type": "stream",
          "text": [
            "Prin.Satit@company.com\n",
            "Prin Satit\n"
          ],
          "name": "stdout"
        }
      ]
    },
    {
      "cell_type": "code",
      "metadata": {
        "colab": {
          "base_uri": "https://localhost:8080/"
        },
        "id": "wjEoiRwinLNp",
        "outputId": "9f726931-0095-4843-c4b1-d3e4840b8bbd"
      },
      "source": [
        "# We st\r\n",
        "\r\n",
        "Dev1.apply_raise()                 \r\n",
        "\r\n",
        "Dev1.pay"
      ],
      "execution_count": null,
      "outputs": [
        {
          "output_type": "execute_result",
          "data": {
            "text/plain": [
              "88000"
            ]
          },
          "metadata": {
            "tags": []
          },
          "execution_count": 116
        }
      ]
    },
    {
      "cell_type": "markdown",
      "metadata": {
        "id": "dsKhtg9zux_b"
      },
      "source": [
        "\r\n",
        "\r\n",
        "---\r\n",
        "\r\n"
      ]
    },
    {
      "cell_type": "code",
      "metadata": {
        "id": "5gfZfJMdmnfS"
      },
      "source": [
        "# Second Inheritance class\r\n",
        "\r\n",
        "class Manager(Employee):\r\n",
        "  raise_amount = 1.17\r\n",
        "  \r\n",
        "  def __init__(self, first, last, pay, employees=None):                   #Manager needs to have employees team\r\n",
        "    super().__init__(first,last,pay)\r\n",
        "\r\n",
        "    if employees == None:\r\n",
        "      self.employees = []\r\n",
        "    else:\r\n",
        "      self.employees = employees\r\n",
        "  \r\n",
        "  def add_emp(self,emp):\r\n",
        "    if emp not in self.employees:\r\n",
        "      self.employees.append(emp)\r\n",
        "    \r\n",
        "  \r\n",
        "  def remove_emp(self,emp):\r\n",
        "    if emp in self.employees:\r\n",
        "      self.employees.remove(emp)\r\n",
        "\r\n",
        "  def print_emp(self):\r\n",
        "    for emp in self.employees:\r\n",
        "      print( '--> ',emp.fullname())\r\n",
        "  "
      ],
      "execution_count": null,
      "outputs": []
    },
    {
      "cell_type": "code",
      "metadata": {
        "id": "dPL0aIw-4xY0"
      },
      "source": [
        "Mng1 = Manager('Mick','Malick',100000)"
      ],
      "execution_count": null,
      "outputs": []
    },
    {
      "cell_type": "code",
      "metadata": {
        "colab": {
          "base_uri": "https://localhost:8080/",
          "height": 35
        },
        "id": "cTxqT_lL5uk1",
        "outputId": "3fff1225-78b1-409a-ceea-a4a9450d08f3"
      },
      "source": [
        "Mng1.fullname()"
      ],
      "execution_count": null,
      "outputs": [
        {
          "output_type": "execute_result",
          "data": {
            "application/vnd.google.colaboratory.intrinsic+json": {
              "type": "string"
            },
            "text/plain": [
              "'Mick Malick'"
            ]
          },
          "metadata": {
            "tags": []
          },
          "execution_count": 119
        }
      ]
    },
    {
      "cell_type": "code",
      "metadata": {
        "colab": {
          "base_uri": "https://localhost:8080/"
        },
        "id": "DYK6HDNL52qs",
        "outputId": "52723841-109e-45be-9005-251a3b306ee8"
      },
      "source": [
        "Mng1.employees                              #No employees owned now"
      ],
      "execution_count": null,
      "outputs": [
        {
          "output_type": "execute_result",
          "data": {
            "text/plain": [
              "[]"
            ]
          },
          "metadata": {
            "tags": []
          },
          "execution_count": 120
        }
      ]
    },
    {
      "cell_type": "code",
      "metadata": {
        "colab": {
          "base_uri": "https://localhost:8080/"
        },
        "id": "vPWo0tP68iwM",
        "outputId": "d0c46ca6-a71f-4a65-9cdf-d4a408ecb796"
      },
      "source": [
        "#Let Dev1 be an employee for Mng1\r\n",
        "\r\n",
        "Mng1.add_emp(Dev1)\r\n",
        "\r\n",
        "Mng1.print_emp()"
      ],
      "execution_count": null,
      "outputs": [
        {
          "output_type": "stream",
          "text": [
            "-->  Prin Satit\n"
          ],
          "name": "stdout"
        }
      ]
    },
    {
      "cell_type": "code",
      "metadata": {
        "colab": {
          "base_uri": "https://localhost:8080/"
        },
        "id": "cRjehTGw_Yvm",
        "outputId": "84e993f9-1479-4e92-c34d-2164c1bbb537"
      },
      "source": [
        "# Let add one more dev for Mng1\r\n",
        "Mng1.add_emp(Dev2)\r\n",
        "\r\n",
        "Mng1.print_emp()"
      ],
      "execution_count": null,
      "outputs": [
        {
          "output_type": "stream",
          "text": [
            "-->  Prin Satit\n",
            "-->  Detbodi Wetsi\n"
          ],
          "name": "stdout"
        }
      ]
    },
    {
      "cell_type": "code",
      "metadata": {
        "colab": {
          "base_uri": "https://localhost:8080/"
        },
        "id": "njH212lJAH8t",
        "outputId": "3acbe8ea-75ec-4264-dd2e-a491204fb17c"
      },
      "source": [
        "# Dev1 argued with Mng1. so Dev1 was kicked\r\n",
        "\r\n",
        "Mng1.remove_emp(Dev1)\r\n",
        "\r\n",
        "Mng1.print_emp()"
      ],
      "execution_count": null,
      "outputs": [
        {
          "output_type": "stream",
          "text": [
            "-->  Detbodi Wetsi\n"
          ],
          "name": "stdout"
        }
      ]
    },
    {
      "cell_type": "code",
      "metadata": {
        "colab": {
          "base_uri": "https://localhost:8080/"
        },
        "id": "94CJM13MAuZu",
        "outputId": "94a66428-29e6-47b3-aee1-40676e43591e"
      },
      "source": [
        "#Extra\r\n",
        "## An alternative to check an instance and subclass\r\n",
        "\r\n",
        "#Check dev1 (Is he an employee or not)\r\n",
        "\r\n",
        "isinstance(Dev1, Employee)"
      ],
      "execution_count": null,
      "outputs": [
        {
          "output_type": "execute_result",
          "data": {
            "text/plain": [
              "True"
            ]
          },
          "metadata": {
            "tags": []
          },
          "execution_count": 124
        }
      ]
    },
    {
      "cell_type": "code",
      "metadata": {
        "colab": {
          "base_uri": "https://localhost:8080/"
        },
        "id": "vPyWd_m0BBlk",
        "outputId": "1c43b3d6-99ec-46a9-cecd-572a10d0bc36"
      },
      "source": [
        "#Check whether Dev1 is Manager or not\r\n",
        "\r\n",
        "isinstance(Dev1, Manager)"
      ],
      "execution_count": null,
      "outputs": [
        {
          "output_type": "execute_result",
          "data": {
            "text/plain": [
              "False"
            ]
          },
          "metadata": {
            "tags": []
          },
          "execution_count": 125
        }
      ]
    },
    {
      "cell_type": "code",
      "metadata": {
        "colab": {
          "base_uri": "https://localhost:8080/"
        },
        "id": "dj_90g_mJefY",
        "outputId": "ba3577ae-3cac-4ea2-8841-0a797cd87d1f"
      },
      "source": [
        "#Extra2\r\n",
        "## WE can check whether this class is a subclass of that class or not\r\n",
        "## first argument is a subclass, while the second class is Parent class\r\n",
        "\r\n",
        "issubclass(Employee, Developer)\r\n",
        "\r\n",
        "#Yes, Of course Employee is not a sub-class of Developer"
      ],
      "execution_count": null,
      "outputs": [
        {
          "output_type": "execute_result",
          "data": {
            "text/plain": [
              "False"
            ]
          },
          "metadata": {
            "tags": []
          },
          "execution_count": 126
        }
      ]
    },
    {
      "cell_type": "code",
      "metadata": {
        "colab": {
          "base_uri": "https://localhost:8080/"
        },
        "id": "TydempYaJ25X",
        "outputId": "680e1123-34f3-4fd2-906e-1fd988820f7c"
      },
      "source": [
        "issubclass(Developer, Employee)\r\n",
        "\r\n",
        "#But, yeah, Developer is a sub class og Employee"
      ],
      "execution_count": null,
      "outputs": [
        {
          "output_type": "execute_result",
          "data": {
            "text/plain": [
              "True"
            ]
          },
          "metadata": {
            "tags": []
          },
          "execution_count": 127
        }
      ]
    },
    {
      "cell_type": "code",
      "metadata": {
        "id": "4jH3YEb5Q6AM"
      },
      "source": [
        ""
      ],
      "execution_count": null,
      "outputs": []
    },
    {
      "cell_type": "markdown",
      "metadata": {
        "id": "erAcvfgCMirJ"
      },
      "source": [
        "\r\n",
        "\r\n",
        "---\r\n",
        "\r\n",
        "#Tutorial 5\r\n",
        "\r\n",
        "\r\n",
        "\r\n",
        "\r\n"
      ]
    },
    {
      "cell_type": "markdown",
      "metadata": {
        "id": "-I385PGEP4up"
      },
      "source": [
        "ref:https://www.youtube.com/watch?v=3ohzBxoFHAY&list=PL-osiE80TeTsqhIuOqKhwlXsIBIdSeYtc&index=5 <br><br>\r\n",
        "ref handout (such as ____ add__ __): https://docs.python.org/3/reference/datamodel.html#special-method-names<br><br>\r\n",
        "\r\n",
        "ref handout for the meaning or underscore things: https://dbader.org/blog/meaning-of-underscores-in-python\r\n",
        "\r\n",
        "\r\n",
        "\r\n",
        "---\r\n",
        "\r\n",
        "\r\n"
      ]
    },
    {
      "cell_type": "markdown",
      "metadata": {
        "id": "mrW2VxIgXPEY"
      },
      "source": [
        "> Dunder method => the variable that comprise of the leading and trail of double underscore, such as __ init __, __ add __"
      ]
    },
    {
      "cell_type": "code",
      "metadata": {
        "id": "iD6xlW6AMl3W"
      },
      "source": [
        "class Employee():\r\n",
        "  def init(self, first, last, pay):\r\n",
        "    self.first = first                                         #remove Dunder of __init__ \r\n",
        "    self.last = last                                          \r\n",
        "    self.email = first + '.' + last + '@company.com'\r\n",
        "\r\n",
        "  def fullname(self):                                          \r\n",
        "    return '{} {}'.format(self.first, self.last)\r\n",
        "\r\n",
        "# Then, init will be no more able to pass the arguments to the object"
      ],
      "execution_count": null,
      "outputs": []
    },
    {
      "cell_type": "code",
      "metadata": {
        "id": "DeO3q1zqWCev"
      },
      "source": [
        "#If you run the above class,\r\n",
        "\r\n",
        "#Emp3 = Employee('Naruekarn','Boon',6000)"
      ],
      "execution_count": null,
      "outputs": []
    },
    {
      "cell_type": "markdown",
      "metadata": {
        "id": "YGLeEUmlXqwA"
      },
      "source": [
        "\r\n",
        "\r\n",
        "---\r\n",
        "\r\n",
        "\r\n",
        "> Here's a great example that what __ init __ really do\r\n",
        "\r\n",
        "\r\n",
        "\r\n",
        "\r\n",
        "\r\n",
        "\r\n",
        "\r\n",
        "\r\n",
        "\r\n",
        "\r\n"
      ]
    },
    {
      "cell_type": "code",
      "metadata": {
        "colab": {
          "base_uri": "https://localhost:8080/"
        },
        "id": "VrZfTlo-XK8j",
        "outputId": "bb7681a7-509c-479f-cfa8-a9807a34b00b"
      },
      "source": [
        "class MyClass(object):\r\n",
        "    i = 123\r\n",
        "    def __init__(self):\r\n",
        "        self.i = 345\r\n",
        "     \r\n",
        "a = MyClass()\r\n",
        "print(a.i)\r\n",
        "print(MyClass.i)\r\n",
        "\r\n",
        "# __init__ is what gets passed to objects of the class, not the 'static' variable of the class itself that has the same name"
      ],
      "execution_count": null,
      "outputs": [
        {
          "output_type": "stream",
          "text": [
            "345\n",
            "123\n"
          ],
          "name": "stdout"
        }
      ]
    },
    {
      "cell_type": "markdown",
      "metadata": {
        "id": "oaiTiAuJry8v"
      },
      "source": [
        "\r\n",
        "\r\n",
        "![dd.png](data:image/png;base64,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)\r\n"
      ]
    },
    {
      "cell_type": "markdown",
      "metadata": {
        "id": "Gxe5TM5prfYJ"
      },
      "source": [
        "---"
      ]
    },
    {
      "cell_type": "code",
      "metadata": {
        "colab": {
          "base_uri": "https://localhost:8080/"
        },
        "id": "kMdv7JVt0Jrg",
        "outputId": "42976430-a6b1-4d3c-ff88-b3858ad7124f"
      },
      "source": [
        "# You might wondering....\r\n",
        "\r\n",
        "print(1+2)\r\n",
        "\r\n",
        "#is the same with \r\n",
        "int.__add__(1,2)"
      ],
      "execution_count": null,
      "outputs": [
        {
          "output_type": "stream",
          "text": [
            "3\n"
          ],
          "name": "stdout"
        },
        {
          "output_type": "execute_result",
          "data": {
            "text/plain": [
              "3"
            ]
          },
          "metadata": {
            "tags": []
          },
          "execution_count": 137
        }
      ]
    },
    {
      "cell_type": "code",
      "metadata": {
        "colab": {
          "base_uri": "https://localhost:8080/",
          "height": 52
        },
        "id": "BrXOqXb-0Yd5",
        "outputId": "7a7ce68e-a7d2-4a99-b0d5-b27ee647ec70"
      },
      "source": [
        "print('s'+'o')\r\n",
        "str.__add__('s','o')"
      ],
      "execution_count": null,
      "outputs": [
        {
          "output_type": "stream",
          "text": [
            "so\n"
          ],
          "name": "stdout"
        },
        {
          "output_type": "execute_result",
          "data": {
            "application/vnd.google.colaboratory.intrinsic+json": {
              "type": "string"
            },
            "text/plain": [
              "'so'"
            ]
          },
          "metadata": {
            "tags": []
          },
          "execution_count": 140
        }
      ]
    },
    {
      "cell_type": "code",
      "metadata": {
        "colab": {
          "base_uri": "https://localhost:8080/"
        },
        "id": "qS6KMLto07GJ",
        "outputId": "1d0da4d5-a5f5-450b-e7cc-e806682054dc"
      },
      "source": [
        "print(len('erase this'))\r\n",
        "str.__len__('erase this')"
      ],
      "execution_count": null,
      "outputs": [
        {
          "output_type": "stream",
          "text": [
            "10\n"
          ],
          "name": "stdout"
        },
        {
          "output_type": "execute_result",
          "data": {
            "text/plain": [
              "10"
            ]
          },
          "metadata": {
            "tags": []
          },
          "execution_count": 145
        }
      ]
    },
    {
      "cell_type": "markdown",
      "metadata": {
        "id": "fEieyOIz5heE"
      },
      "source": [
        "\r\n",
        "\r\n",
        "---\r\n",
        "\r\n"
      ]
    },
    {
      "cell_type": "code",
      "metadata": {
        "colab": {
          "base_uri": "https://localhost:8080/"
        },
        "id": "mJTvczEX6WjK",
        "outputId": "a5a1700f-806c-45c8-c2d3-dfba07b5fd70"
      },
      "source": [
        "#Problem\r\n",
        "\r\n",
        "sample_1 = 'beach'\r\n",
        "\r\n",
        "print(sample_1)\r\n"
      ],
      "execution_count": null,
      "outputs": [
        {
          "output_type": "stream",
          "text": [
            "beach\n"
          ],
          "name": "stdout"
        }
      ]
    },
    {
      "cell_type": "code",
      "metadata": {
        "colab": {
          "base_uri": "https://localhost:8080/"
        },
        "id": "QGQXupNH6pH6",
        "outputId": "fc381967-daa5-400a-a0e1-1a1dfab5247b"
      },
      "source": [
        "sample_2 = 20\r\n",
        "print(sample_2)"
      ],
      "execution_count": null,
      "outputs": [
        {
          "output_type": "stream",
          "text": [
            "20\n"
          ],
          "name": "stdout"
        }
      ]
    },
    {
      "cell_type": "code",
      "metadata": {
        "colab": {
          "base_uri": "https://localhost:8080/"
        },
        "id": "dL6SpNGS5xhs",
        "outputId": "89ba1b49-9de0-4736-9eba-e670b5523766"
      },
      "source": [
        "#But why?\r\n",
        "\r\n",
        "emp_1 = Employee('Corey', 'Schafer', 50000)\r\n",
        "\r\n",
        "\r\n",
        "print(emp_1)\r\n",
        "\r\n",
        "# We expected to let it returns us 'Employee('Corey', 'Schafer', 50000)', but it returns us the object type"
      ],
      "execution_count": null,
      "outputs": [
        {
          "output_type": "stream",
          "text": [
            "Employee('Corey','Schafer','50000')\n"
          ],
          "name": "stdout"
        }
      ]
    },
    {
      "cell_type": "code",
      "metadata": {
        "id": "LnH0NgtwsvUF"
      },
      "source": [
        "#Here's how you can make it returns Employee('Corey', 'Schafer', 50000)', by creating buildin function\r\n",
        "\r\n",
        "# declare a new method that has leading and trail double underscore__, will make able to create built-in function, just like print(....) which work behind by __print__\r\n",
        "\r\n",
        "#Also, \r\n",
        "\r\n",
        "\r\n",
        "#Let's create two more dunder methods\r\n",
        "\r\n",
        "class Employee():\r\n",
        "\r\n",
        "  num_of_emps =  0\r\n",
        "  raise_amount = 1.04                 \r\n",
        "  def __init__(self, first, last, pay):\r\n",
        "    self.first = first\r\n",
        "    self.last = last\r\n",
        "    self.pay = pay\r\n",
        "    self.email = first + '.' + last + '@company.com'\r\n",
        "\r\n",
        "    Employee.num_of_emps +=1\r\n",
        "\r\n",
        "  def fullname(self):                                          \r\n",
        "    return '{} {}'.format(self.first, self.last)\r\n",
        "\r\n",
        "\r\n",
        "  def apply_raise(self):                              \r\n",
        "    self.pay = int(self.pay * self.raise_amount)\r\n",
        "\r\n",
        "# 4 new dunder methods (which we try to apply these existed builtin function to this class)\r\n",
        "  def __repr__(self):\r\n",
        "    return \"Employee('{}','{}','{}')\".format(self.first,self.last,self.pay)\r\n",
        "\r\n",
        "  def __str__(self):\r\n",
        "    return '{} - {}'.format(self.fullname(),self.email)\r\n",
        "\r\n",
        "  def __add__(self, other):\r\n",
        "    return self.pay + other.pay\r\n",
        "\r\n",
        "  def __len__(self):\r\n",
        "    return len(self.fullname())\r\n",
        "\r\n",
        "#These dunder method often called as Magic method"
      ],
      "execution_count": null,
      "outputs": []
    },
    {
      "cell_type": "code",
      "metadata": {
        "id": "nLWKaMRw7gti"
      },
      "source": [
        "emp_1 = Employee('Corey', 'Schafer', 50000)\r\n",
        "\r\n",
        "emp_2 = Employee('Saran', 'Panna', 60000)\r\n",
        "\r\n",
        "emp_3 = Employee('Kasemwat', 'Ongkan', 50000)"
      ],
      "execution_count": null,
      "outputs": []
    },
    {
      "cell_type": "code",
      "metadata": {
        "colab": {
          "base_uri": "https://localhost:8080/",
          "height": 35
        },
        "id": "zxgHeGaEzEdY",
        "outputId": "81d96600-2511-487f-eea1-0eb5ae608f69"
      },
      "source": [
        "repr(emp_1)                               #Interpretation: There you go, you get a built in function that work for the object(which is emp1) that belonging to class Employee\r\n",
        "\r\n",
        "#similar as emp_1.__repr__()"
      ],
      "execution_count": null,
      "outputs": [
        {
          "output_type": "execute_result",
          "data": {
            "application/vnd.google.colaboratory.intrinsic+json": {
              "type": "string"
            },
            "text/plain": [
              "\"Employee('Corey','Schafer','50000')\""
            ]
          },
          "metadata": {
            "tags": []
          },
          "execution_count": 192
        }
      ]
    },
    {
      "cell_type": "code",
      "metadata": {
        "colab": {
          "base_uri": "https://localhost:8080/",
          "height": 35
        },
        "id": "Le3cprme0HwA",
        "outputId": "4158b461-7336-4d35-d728-54518924d142"
      },
      "source": [
        "str(emp_1)                                #This helps you from looking the basic info "
      ],
      "execution_count": null,
      "outputs": [
        {
          "output_type": "execute_result",
          "data": {
            "application/vnd.google.colaboratory.intrinsic+json": {
              "type": "string"
            },
            "text/plain": [
              "'Corey Schafer - Corey.Schafer@company.com'"
            ]
          },
          "metadata": {
            "tags": []
          },
          "execution_count": 193
        }
      ]
    },
    {
      "cell_type": "code",
      "metadata": {
        "id": "RJTvpsOe-YKi"
      },
      "source": [
        "#add(emp_1,emp_2)                            #add doesn't work in that way, but #since add is already builtin-function which relies on '+', so we will fix it in the next new cell"
      ],
      "execution_count": null,
      "outputs": []
    },
    {
      "cell_type": "code",
      "metadata": {
        "colab": {
          "base_uri": "https://localhost:8080/"
        },
        "id": "fAMP3eV_AVl8",
        "outputId": "8061fc0c-63d0-4aea-ad8f-941814493754"
      },
      "source": [
        "\r\n",
        "emp_1 + emp_2                    \r\n",
        "\r\n",
        "#This helps you to find the total of 2 employees salary\r\n",
        "\r\n",
        "#It might be complicated, you may consider looking for this python handout\r\n",
        "#ref handout (such as __ add __): https://docs.python.org/3/reference/datamodel.html#special-method-names"
      ],
      "execution_count": null,
      "outputs": [
        {
          "output_type": "execute_result",
          "data": {
            "text/plain": [
              "110000"
            ]
          },
          "metadata": {
            "tags": []
          },
          "execution_count": 202
        }
      ]
    },
    {
      "cell_type": "markdown",
      "metadata": {
        "id": "z-oIX0nXCTUK"
      },
      "source": [
        "However, you might be wondering how can we sum up more than 2 value\r\n",
        "ref: https://stackoverflow.com/questions/51036121/define-sum-for-a-class, here's some useful stuff"
      ]
    },
    {
      "cell_type": "code",
      "metadata": {
        "colab": {
          "base_uri": "https://localhost:8080/"
        },
        "id": "eThYZZ8BAsHa",
        "outputId": "5218d354-edf0-47f4-a9f5-c48cda8c759e"
      },
      "source": [
        "len(emp_1)     #The length of full name"
      ],
      "execution_count": null,
      "outputs": [
        {
          "output_type": "execute_result",
          "data": {
            "text/plain": [
              "13"
            ]
          },
          "metadata": {
            "tags": []
          },
          "execution_count": 199
        }
      ]
    },
    {
      "cell_type": "markdown",
      "metadata": {
        "id": "P7D_bqlqB5Sq"
      },
      "source": [
        "\r\n",
        "\r\n",
        "---\r\n",
        "\r\n",
        "\r\n",
        "#Tutorial 6\r\n",
        "\r\n",
        "\r\n"
      ]
    },
    {
      "cell_type": "markdown",
      "metadata": {
        "id": "DirgmAHVE6og"
      },
      "source": [
        "1) Property decorator : Set up the attribute in the method (not only just in __ init __) <br>\r\n",
        "2) Setter:  <br>\r\n",
        "3) Deleter:"
      ]
    },
    {
      "cell_type": "markdown",
      "metadata": {
        "id": "PuZtsa6aE4r8"
      },
      "source": [
        "ref : https://www.youtube.com/watch?v=jCzT9XFZ5bw&list=PL-osiE80TeTsqhIuOqKhwlXsIBIdSeYtc&index=6"
      ]
    },
    {
      "cell_type": "markdown",
      "metadata": {
        "id": "4XFvVdlTH30L"
      },
      "source": [
        "\r\n",
        "\r\n",
        "---\r\n",
        "\r\n",
        "\r\n",
        "Scenerio 1 : "
      ]
    },
    {
      "cell_type": "code",
      "metadata": {
        "id": "p-qge1i1Cew6"
      },
      "source": [
        "class Employee:\r\n",
        "\r\n",
        "       \r\n",
        "  def __init__(self, first, last):\r\n",
        "    self.first = first\r\n",
        "    self.last = last\r\n",
        "    self.email = first + '.' + last + '@company.com'\r\n",
        "\r\n",
        "\r\n",
        "  def fullname(self):                                          \r\n",
        "    return '{} {}'.format(self.first, self.last)\r\n"
      ],
      "execution_count": null,
      "outputs": []
    },
    {
      "cell_type": "code",
      "metadata": {
        "id": "aZOoad4lH90O"
      },
      "source": [
        "emp_1 = Employee('Corey', 'Schafer')"
      ],
      "execution_count": null,
      "outputs": []
    },
    {
      "cell_type": "code",
      "metadata": {
        "id": "QAoMxFk3ILVX"
      },
      "source": [
        "#suppose you need to change the first name of emp_1 to 'Jim'\r\n",
        "\r\n",
        "emp_1.first = 'Jim'"
      ],
      "execution_count": null,
      "outputs": []
    },
    {
      "cell_type": "code",
      "metadata": {
        "colab": {
          "base_uri": "https://localhost:8080/"
        },
        "id": "NswMkPguIv1m",
        "outputId": "98e2b6fb-da3c-486b-bc9b-660e000afe07"
      },
      "source": [
        "#But the problem is ....\r\n",
        "print(emp_1.first)\r\n",
        "print(emp_1.last)\r\n",
        "print(emp_1.email)\r\n",
        "\r\n",
        "#the email's first name doesn't get updated (because it embbed *first*)"
      ],
      "execution_count": null,
      "outputs": [
        {
          "output_type": "stream",
          "text": [
            "Jim\n",
            "Schafer\n",
            "Corey.Schafer@company.com\n"
          ],
          "name": "stdout"
        }
      ]
    },
    {
      "cell_type": "markdown",
      "metadata": {
        "id": "P3c0eo8CJdmR"
      },
      "source": [
        "\r\n",
        "\r\n",
        "---\r\n",
        "\r\n",
        "\r\n",
        "(Solved) Scenario 1 :\r\n",
        "\r\n",
        "\r\n",
        "\r\n"
      ]
    },
    {
      "cell_type": "code",
      "metadata": {
        "id": "TIFOkY1UJZ6j"
      },
      "source": [
        "class Employee:\r\n",
        "\r\n",
        "       \r\n",
        "  def __init__(self, first, last):\r\n",
        "    self.first = first\r\n",
        "    self.last = last\r\n",
        "    #remove email attribute, and set to a method instead\r\n",
        "\r\n",
        "  def email(self):                                          \r\n",
        "    return '{}.{}@email.com'.format(self.first, self.last)\r\n",
        "\r\n",
        "  def fullname(self):                                          \r\n",
        "    return '{} {}'.format(self.first, self.last)"
      ],
      "execution_count": null,
      "outputs": []
    },
    {
      "cell_type": "code",
      "metadata": {
        "id": "Ka-58o2_KHk2"
      },
      "source": [
        "emp_1 = Employee('Corey', 'Schafer')"
      ],
      "execution_count": null,
      "outputs": []
    },
    {
      "cell_type": "code",
      "metadata": {
        "id": "3hEPe1M9LESM"
      },
      "source": [
        "emp_1.first = 'Jim'"
      ],
      "execution_count": null,
      "outputs": []
    },
    {
      "cell_type": "code",
      "metadata": {
        "colab": {
          "base_uri": "https://localhost:8080/"
        },
        "id": "mV1aYvosJ2cu",
        "outputId": "c6b60452-a0ca-4b72-8f79-95e6a4a0eae0"
      },
      "source": [
        "print(emp_1.email())"
      ],
      "execution_count": null,
      "outputs": [
        {
          "output_type": "stream",
          "text": [
            "Jim.Schafer@email.com\n"
          ],
          "name": "stdout"
        }
      ]
    },
    {
      "cell_type": "code",
      "metadata": {
        "colab": {
          "base_uri": "https://localhost:8080/"
        },
        "id": "ZpxgatYzLlLU",
        "outputId": "d33ad319-67f8-426e-c0f7-30e832e0f451"
      },
      "source": [
        "print(emp_1.fullname())"
      ],
      "execution_count": null,
      "outputs": [
        {
          "output_type": "stream",
          "text": [
            "Jim Schafer\n"
          ],
          "name": "stdout"
        }
      ]
    },
    {
      "cell_type": "code",
      "metadata": {
        "id": "IxBmjuF7MyKY"
      },
      "source": [
        "#however, you will always need to update email by recall emp_1.email() everytime\r\n",
        "#The way to solve this is making email to *attribute* from method, so everything will be automatically updated, by adding the *property decorator*"
      ],
      "execution_count": null,
      "outputs": []
    },
    {
      "cell_type": "markdown",
      "metadata": {
        "id": "VVpYN1_lOfK6"
      },
      "source": [
        "\r\n",
        "\r\n",
        "---\r\n",
        "\r\n",
        "\r\n",
        "(Solved)(Solved) Scenario 1 :"
      ]
    },
    {
      "cell_type": "code",
      "metadata": {
        "id": "RjVdu19hOTJd"
      },
      "source": [
        "class Employee:\r\n",
        "\r\n",
        "       \r\n",
        "  def __init__(self, first, last):\r\n",
        "    self.first = first\r\n",
        "    self.last = last\r\n",
        "\r\n",
        "  @property                                                    #add a property decorator\r\n",
        "  def email(self):                                           \r\n",
        "    return '{}.{}@email.com'.format(self.first, self.last)\r\n",
        "\r\n",
        "  def fullname(self):                                          \r\n",
        "    return '{} {}'.format(self.first, self.last)"
      ],
      "execution_count": null,
      "outputs": []
    },
    {
      "cell_type": "code",
      "metadata": {
        "id": "Slbj9w06RPcs"
      },
      "source": [
        "emp_1 = Employee('Corey', 'Schafer')"
      ],
      "execution_count": null,
      "outputs": []
    },
    {
      "cell_type": "code",
      "metadata": {
        "id": "3p0Yks-CRQal"
      },
      "source": [
        "emp_1.first = 'Jim'"
      ],
      "execution_count": null,
      "outputs": []
    },
    {
      "cell_type": "code",
      "metadata": {
        "colab": {
          "base_uri": "https://localhost:8080/"
        },
        "id": "TyVLFCY8OyWR",
        "outputId": "b3d1940f-79a8-4e25-cf7a-6c5bf99d9f47"
      },
      "source": [
        "#Now, Email is back to be an attribute (Updated: emp_1.email() ---> emp_1.email)\r\n",
        "print(emp_1.email)"
      ],
      "execution_count": null,
      "outputs": [
        {
          "output_type": "stream",
          "text": [
            "Jim.Schafer@email.com\n"
          ],
          "name": "stdout"
        }
      ]
    },
    {
      "cell_type": "markdown",
      "metadata": {
        "id": "7hhvvPzBSRMv"
      },
      "source": [
        "\r\n",
        "\r\n",
        "---\r\n",
        "\r\n",
        "Scenario 2: Changing full_name will automatically change first & last & email\r\n",
        "\r\n"
      ]
    },
    {
      "cell_type": "code",
      "metadata": {
        "id": "dPb1eJBSP6P0"
      },
      "source": [
        "class Employee:\r\n",
        "\r\n",
        "       \r\n",
        "  def __init__(self, first, last):\r\n",
        "    self.first = first\r\n",
        "    self.last = last\r\n",
        "\r\n",
        "  @property                                                    #add a property decorator\r\n",
        "  def email(self):                                           \r\n",
        "    return '{}.{}@email.com'.format(self.first, self.last)\r\n",
        "\r\n",
        "  @property\r\n",
        "  def fullname(self):                                          \r\n",
        "    return '{} {}'.format(self.first, self.last)"
      ],
      "execution_count": null,
      "outputs": []
    },
    {
      "cell_type": "code",
      "metadata": {
        "id": "owuewbECZ4w1"
      },
      "source": [
        "emp_1 = Employee('Corey', 'Schafer')"
      ],
      "execution_count": null,
      "outputs": []
    },
    {
      "cell_type": "code",
      "metadata": {
        "colab": {
          "base_uri": "https://localhost:8080/",
          "height": 197
        },
        "id": "Rbh66rE_P-71",
        "outputId": "81c5c2a9-ace4-40ab-87df-fbc970ee0629"
      },
      "source": [
        "# You can't even change the fullname, even it's attribute\r\n",
        "\r\n",
        "emp_1.fullname = 'Saran Pannasuriyaporn'"
      ],
      "execution_count": null,
      "outputs": [
        {
          "output_type": "error",
          "ename": "AttributeError",
          "evalue": "ignored",
          "traceback": [
            "\u001b[0;31m---------------------------------------------------------------------------\u001b[0m",
            "\u001b[0;31mAttributeError\u001b[0m                            Traceback (most recent call last)",
            "\u001b[0;32m<ipython-input-335-c15657f13a88>\u001b[0m in \u001b[0;36m<module>\u001b[0;34m()\u001b[0m\n\u001b[1;32m      1\u001b[0m \u001b[0;31m# You can't even change the fullname, even it's attribute\u001b[0m\u001b[0;34m\u001b[0m\u001b[0;34m\u001b[0m\u001b[0;34m\u001b[0m\u001b[0m\n\u001b[1;32m      2\u001b[0m \u001b[0;34m\u001b[0m\u001b[0m\n\u001b[0;32m----> 3\u001b[0;31m \u001b[0memp_1\u001b[0m\u001b[0;34m.\u001b[0m\u001b[0mfullname\u001b[0m \u001b[0;34m=\u001b[0m \u001b[0;34m'Saran Pannasuriyaporn'\u001b[0m\u001b[0;34m\u001b[0m\u001b[0;34m\u001b[0m\u001b[0m\n\u001b[0m",
            "\u001b[0;31mAttributeError\u001b[0m: can't set attribute"
          ]
        }
      ]
    },
    {
      "cell_type": "code",
      "metadata": {
        "id": "vHiEbDUkQNcc"
      },
      "source": [
        "# we want .first & .last to do follow .fullname\r\n",
        "\r\n",
        "#But we can't even change emp_1.fullname"
      ],
      "execution_count": null,
      "outputs": []
    },
    {
      "cell_type": "markdown",
      "metadata": {
        "id": "uaOaEUT5WUP9"
      },
      "source": [
        "\r\n",
        "\r\n",
        "---\r\n",
        "\r\n",
        "(Solved using Setter) Scenario 2: Changing full_name will automatically change first & last & email\r\n",
        "\r\n"
      ]
    },
    {
      "cell_type": "code",
      "metadata": {
        "id": "aYYt4tbbWT1O"
      },
      "source": [
        "class Employee():\r\n",
        "\r\n",
        "       \r\n",
        "  def __init__(self, first, last):\r\n",
        "    self.first = first\r\n",
        "    self.last = last\r\n",
        "\r\n",
        "  @property                                                    \r\n",
        "  def email(self):                                           \r\n",
        "    return '{}.{}@email.com'.format(self.first, self.last)\r\n",
        "\r\n",
        "  @property\r\n",
        "  def fullname(self):                                          \r\n",
        "    return '{} {}'.format(self.first, self.last)\r\n",
        "  \r\n",
        "  @fullname.setter                                             #add a setter\r\n",
        "  def fullname(self, name):\r\n",
        "    first, last = name.split()\r\n",
        "    self.first = first\r\n",
        "    self.last = last"
      ],
      "execution_count": null,
      "outputs": []
    },
    {
      "cell_type": "code",
      "metadata": {
        "id": "lgGYIYUBZ2hm"
      },
      "source": [
        "emp_1 = Employee('Corey', 'Schafer')"
      ],
      "execution_count": null,
      "outputs": []
    },
    {
      "cell_type": "code",
      "metadata": {
        "id": "GNjYxm-KXNd_"
      },
      "source": [
        "emp_1.fullname = 'Saran Pannasuriyaporn'"
      ],
      "execution_count": null,
      "outputs": []
    },
    {
      "cell_type": "code",
      "metadata": {
        "colab": {
          "base_uri": "https://localhost:8080/"
        },
        "id": "CgzXDQA5XQM2",
        "outputId": "7ad5da25-9e53-4fb4-c848-763949d9b8ca"
      },
      "source": [
        "print(emp_1.fullname)\r\n",
        "print(emp_1.first)\r\n",
        "print(emp_1.last)\r\n",
        "print(emp_1.email)\r\n",
        "\r\n",
        "#Yes!! Finally, you are able to update full name, and first and last will be updating which influenced my full_name\r\n",
        "# So, convenient to change self.first, and self.last"
      ],
      "execution_count": null,
      "outputs": [
        {
          "output_type": "stream",
          "text": [
            "Saran Pannasuriyaporn\n",
            "Saran\n",
            "Pannasuriyaporn\n",
            "Saran.Pannasuriyaporn@email.com\n"
          ],
          "name": "stdout"
        }
      ]
    },
    {
      "cell_type": "markdown",
      "metadata": {
        "id": "m01njJQ1cX9B"
      },
      "source": [
        "\r\n",
        "\r\n",
        "---\r\n",
        "\r\n",
        "\r\n",
        "Scenario 3: We want to delete the emp_1 from the system"
      ]
    },
    {
      "cell_type": "code",
      "metadata": {
        "id": "VPMcNNw4cbJl"
      },
      "source": [
        "class Employee():\r\n",
        "\r\n",
        "       \r\n",
        "  def __init__(self, first, last):\r\n",
        "    self.first = first\r\n",
        "    self.last = last\r\n",
        "\r\n",
        "  @property                                                    \r\n",
        "  def email(self):                                           \r\n",
        "    return '{}.{}@email.com'.format(self.first, self.last)\r\n",
        "\r\n",
        "  @property\r\n",
        "  def fullname(self):                                          \r\n",
        "    return '{} {}'.format(self.first, self.last)\r\n",
        "  \r\n",
        "  @fullname.setter\r\n",
        "  def fullname(self, name):\r\n",
        "    first, last = name.split()\r\n",
        "    self.first = first\r\n",
        "    self.last = last\r\n",
        "  "
      ],
      "execution_count": null,
      "outputs": []
    },
    {
      "cell_type": "code",
      "metadata": {
        "id": "-hhXWz6rcoBO"
      },
      "source": [
        "emp_1 = Employee('Corey', 'Schafer')"
      ],
      "execution_count": null,
      "outputs": []
    },
    {
      "cell_type": "code",
      "metadata": {
        "id": "12o96H7OciqO"
      },
      "source": [
        "emp_1.first = None\r\n",
        "emp_1.last = None"
      ],
      "execution_count": null,
      "outputs": []
    },
    {
      "cell_type": "code",
      "metadata": {
        "id": "NIr4v5orcrUV"
      },
      "source": [
        "# So, complicated, to set a lot of attribute, including first, and last (It might not be a lot, but in real world system, It might included Address, Degree,.....)"
      ],
      "execution_count": null,
      "outputs": []
    },
    {
      "cell_type": "markdown",
      "metadata": {
        "id": "4hoYjjzFa5Sp"
      },
      "source": [
        "\r\n",
        "\r\n",
        "---\r\n",
        "\r\n",
        "(Solved using Deleter)Scenario 3: We want to delete the emp_1 from the system"
      ]
    },
    {
      "cell_type": "code",
      "metadata": {
        "id": "t2GMOWWvbL_J"
      },
      "source": [
        "class Employee():\r\n",
        "\r\n",
        "       \r\n",
        "  def __init__(self, first, last):\r\n",
        "    self.first = first\r\n",
        "    self.last = last\r\n",
        "\r\n",
        "  @property                                                    \r\n",
        "  def email(self):                                           \r\n",
        "    return '{}.{}@email.com'.format(self.first, self.last)\r\n",
        "\r\n",
        "  @property\r\n",
        "  def fullname(self):                                          \r\n",
        "    return '{} {}'.format(self.first, self.last)\r\n",
        "  \r\n",
        "  @fullname.setter\r\n",
        "  def fullname(self, name):\r\n",
        "    first, last = name.split()\r\n",
        "    self.first = first\r\n",
        "    self.last = last\r\n",
        "  \r\n",
        "  @fullname.deleter\r\n",
        "  def fullname(self):\r\n",
        "    print('Deleted')\r\n",
        "    self.first = None\r\n",
        "    self.last = None\r\n"
      ],
      "execution_count": null,
      "outputs": []
    },
    {
      "cell_type": "code",
      "metadata": {
        "id": "LwKdjsqXbPJt"
      },
      "source": [
        "emp_1 = Employee('Corey', 'Schafer')"
      ],
      "execution_count": null,
      "outputs": []
    },
    {
      "cell_type": "code",
      "metadata": {
        "colab": {
          "base_uri": "https://localhost:8080/"
        },
        "id": "YNIVYNwFbR3t",
        "outputId": "888dd27e-ac58-4128-daf6-94cc48f65b0f"
      },
      "source": [
        "del emp_1.fullname"
      ],
      "execution_count": null,
      "outputs": [
        {
          "output_type": "stream",
          "text": [
            "Deleted\n"
          ],
          "name": "stdout"
        }
      ]
    },
    {
      "cell_type": "markdown",
      "metadata": {
        "id": "1R-mDnP_dNUl"
      },
      "source": [
        "\r\n",
        "\r\n",
        "---\r\n",
        "\r\n"
      ]
    }
  ]
}